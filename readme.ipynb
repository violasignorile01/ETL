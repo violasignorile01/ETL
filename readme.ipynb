{
 "cells": [
  {
   "cell_type": "markdown",
   "metadata": {},
   "source": [
    "# ETL Project Report"
   ]
  },
  {
   "cell_type": "markdown",
   "metadata": {},
   "source": [
    "## Extract: Original data sources and how the data was formatted (CSV, JSON, pgAdmin 4, etc)."
   ]
  },
  {
   "cell_type": "markdown",
   "metadata": {},
   "source": [
    "#### Data Sources:\n",
    "\n",
    "* https://www.kaggle.com/stackoverflow/so-survey-2017¶\n",
    "* https://www.kaggle.com/stackoverflow/stack-overflow-2018-developer-survey\n",
    "* https://www.kaggle.com/mchirico/stack-overflow-developer-survey-results-2019\n",
    "\n",
    "The above datasets were all in .csv format."
   ]
  },
  {
   "cell_type": "markdown",
   "metadata": {},
   "source": [
    "## Transform:\n",
    "#### The type of transformation needed for this data (cleaning, joining, filtering, aggregating, etc)."
   ]
  },
  {
   "cell_type": "markdown",
   "metadata": {},
   "source": [
    "- Cleaned data - dropped NA's\n",
    "- Inspected column names to find column names that contained the same info across all three years\n",
    "- Filtered data - filtered only for columns that we wanted:\n",
    "'id','gender','race','country','education_level','undergrad_major','years_coding','dev_type','salary'\n",
    "- Renamed columns to be uniform across all 3 years (2017-2019)"
   ]
  },
  {
   "cell_type": "markdown",
   "metadata": {},
   "source": [
    "## Load:\n",
    "\n",
    "#### The type of final production database to load the data into (relational or non-relational)."
   ]
  },
  {
   "cell_type": "markdown",
   "metadata": {},
   "source": [
    "- Relational database (.sql)"
   ]
  },
  {
   "cell_type": "markdown",
   "metadata": {},
   "source": [
    "#### The final tables or collections that will be used in the production database."
   ]
  },
  {
   "cell_type": "markdown",
   "metadata": {},
   "source": [
    "- SQL Database: 'stackoverflow_survey_db'\n",
    "- Tables within DB: 'survey_2017', 'survey_2018', 'survey_2019'\n",
    "\n",
    "The SQL database and tables were chosen so that survey would have a separate table with common elements (fields) across all 3 years.  In the future, we can add new tables with the same elements, iterating through the same process for each year (read in .CSV, clean, transform, insert into .SQL table, etc.)"
   ]
  }
 ],
 "metadata": {
  "kernelspec": {
   "display_name": "Python 3",
   "language": "python",
   "name": "python3"
  },
  "language_info": {
   "codemirror_mode": {
    "name": "ipython",
    "version": 3
   },
   "file_extension": ".py",
   "mimetype": "text/x-python",
   "name": "python",
   "nbconvert_exporter": "python",
   "pygments_lexer": "ipython3",
   "version": "3.7.6"
  }
 },
 "nbformat": 4,
 "nbformat_minor": 4
}
